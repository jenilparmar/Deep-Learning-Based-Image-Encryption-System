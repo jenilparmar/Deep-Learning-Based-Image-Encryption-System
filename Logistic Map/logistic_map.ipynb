{
 "cells": [
  {
   "cell_type": "code",
   "execution_count": null,
   "id": "fd4ba7ae",
   "metadata": {},
   "outputs": [],
   "source": [
    "import numpy as np \n",
    "from SHA_function import create_sha_key\n",
    "import math"
   ]
  },
  {
   "cell_type": "code",
   "execution_count": 2,
   "id": "fb029320",
   "metadata": {},
   "outputs": [],
   "source": [
    "r = 0\n",
    "x  = 0  \n",
    "h= list(create_sha_key(\"JenilParmarIsGreatCoder\"))"
   ]
  },
  {
   "cell_type": "code",
   "execution_count": 13,
   "id": "eb5fc725",
   "metadata": {},
   "outputs": [
    {
     "data": {
      "text/plain": [
       "['7',\n",
       " '2',\n",
       " '5',\n",
       " 'e',\n",
       " 'b',\n",
       " '5',\n",
       " 'c',\n",
       " '0',\n",
       " '9',\n",
       " '6',\n",
       " '1',\n",
       " '7',\n",
       " 'a',\n",
       " 'c',\n",
       " '4',\n",
       " 'f',\n",
       " '1',\n",
       " '5',\n",
       " 'd',\n",
       " '5',\n",
       " '1',\n",
       " 'e',\n",
       " '4',\n",
       " 'b',\n",
       " '6',\n",
       " 'b',\n",
       " 'a',\n",
       " 'b',\n",
       " '3',\n",
       " '6',\n",
       " 'b',\n",
       " '0',\n",
       " '6',\n",
       " '7',\n",
       " 'f',\n",
       " '0',\n",
       " '3',\n",
       " 'a',\n",
       " '1',\n",
       " '0',\n",
       " '0',\n",
       " '5',\n",
       " 'e',\n",
       " '4',\n",
       " '5',\n",
       " '7',\n",
       " '1',\n",
       " '6',\n",
       " 'f',\n",
       " 'f',\n",
       " 'd',\n",
       " '8',\n",
       " '7',\n",
       " 'b',\n",
       " '0',\n",
       " 'b',\n",
       " 'f',\n",
       " 'f',\n",
       " '5',\n",
       " '7',\n",
       " '3',\n",
       " 'd',\n",
       " '4',\n",
       " '5']"
      ]
     },
     "execution_count": 13,
     "metadata": {},
     "output_type": "execute_result"
    }
   ],
   "source": [
    "h"
   ]
  },
  {
   "cell_type": "code",
   "execution_count": 14,
   "id": "4905d83d",
   "metadata": {},
   "outputs": [],
   "source": [
    "\n",
    "\n",
    "r_star = 0\n",
    "for i in range(32):\n",
    "    value = int(h[i], 16)  # convert hex to integer\n",
    "    r_star += value * math.log(math.pow(256, 32 - i))\n"
   ]
  },
  {
   "cell_type": "code",
   "execution_count": 17,
   "id": "a43917d6",
   "metadata": {},
   "outputs": [],
   "source": [
    "x_star = 0\n",
    "for i in range(32):\n",
    "    value = int(h[i+32] , 16)\n",
    "    x_star +=value * math.log(math.pow(256 , 64-i+32))\n"
   ]
  },
  {
   "cell_type": "code",
   "execution_count": 18,
   "id": "87088ee3",
   "metadata": {},
   "outputs": [
    {
     "data": {
      "text/plain": [
       "101432.38581442017"
      ]
     },
     "execution_count": 18,
     "metadata": {},
     "output_type": "execute_result"
    }
   ],
   "source": [
    "x_star"
   ]
  },
  {
   "cell_type": "code",
   "execution_count": 24,
   "id": "88c777c1",
   "metadata": {},
   "outputs": [],
   "source": [
    "x = x_star - int(x_star)\n",
    "r = 3.57 + (r_star - int(r_star) )*0.43"
   ]
  },
  {
   "cell_type": "code",
   "execution_count": 25,
   "id": "29e9bbbe",
   "metadata": {},
   "outputs": [
    {
     "data": {
      "text/plain": [
       "3.624207290864651"
      ]
     },
     "execution_count": 25,
     "metadata": {},
     "output_type": "execute_result"
    }
   ],
   "source": [
    "r"
   ]
  },
  {
   "cell_type": "code",
   "execution_count": null,
   "id": "d4e47140",
   "metadata": {},
   "outputs": [],
   "source": []
  }
 ],
 "metadata": {
  "kernelspec": {
   "display_name": ".venv (3.13.6)",
   "language": "python",
   "name": "python3"
  },
  "language_info": {
   "codemirror_mode": {
    "name": "ipython",
    "version": 3
   },
   "file_extension": ".py",
   "mimetype": "text/x-python",
   "name": "python",
   "nbconvert_exporter": "python",
   "pygments_lexer": "ipython3",
   "version": "3.13.6"
  }
 },
 "nbformat": 4,
 "nbformat_minor": 5
}
