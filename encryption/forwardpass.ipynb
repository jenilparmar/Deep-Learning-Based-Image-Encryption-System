{
 "cells": [
  {
   "cell_type": "code",
   "execution_count": 2,
   "id": "3d44408c",
   "metadata": {},
   "outputs": [],
   "source": [
    "import numpy as np\n",
    "import math"
   ]
  },
  {
   "cell_type": "code",
   "execution_count": 7,
   "id": "dddcf45b",
   "metadata": {},
   "outputs": [],
   "source": [
    "def update_df(R:float , c , d):\n",
    "    f = np.int64(R) \n",
    "    z= c %32\n",
    "    if z!=0:\n",
    "        d = (c << (d%z))^d\n",
    "    else:\n",
    "        d= d^c\n",
    "    d = d^ (d<<21)\n",
    "    d = d ^ (d>>35)\n",
    "    d  =d ^ (d<<4)\n",
    "    \n",
    "    return [f ,d]"
   ]
  },
  {
   "cell_type": "code",
   "execution_count": 8,
   "id": "321cc4f7",
   "metadata": {},
   "outputs": [
    {
     "data": {
      "text/plain": [
       "[np.int64(2), 332107477252159304]"
      ]
     },
     "execution_count": 8,
     "metadata": {},
     "output_type": "execute_result"
    }
   ],
   "source": [
    "update_df(2.345647768 , 157 , 524592858)"
   ]
  },
  {
   "cell_type": "code",
   "execution_count": null,
   "id": "56695292",
   "metadata": {},
   "outputs": [
    {
     "name": "stdout",
     "output_type": "stream",
     "text": [
      "Input Block:  [120, 45, 200, 88]\n",
      "Output Block: [112, 106, 70, 37]\n"
     ]
    }
   ],
   "source": [
    "# ---- Main: Substitute function (forward + backward) ----\n",
    "def Substitute(B):\n",
    "    \"\"\"\n",
    "    Forward and backward substitution for one image block.\n",
    "    B: list/array of pixel values [b1, b2, ..., bn]\n",
    "    Returns: list of final substituted pixels (out)\n",
    "    \"\"\"\n",
    "    n = len(B)\n",
    "    out1 = []\n",
    "\n",
    "    # --- Forward pass ---\n",
    "    f = np.int64(1)  # initial f (non-zero)\n",
    "    d = np.int64(1)  # initial d (non-zero)\n",
    "\n",
    "    for bi in B:\n",
    "        R = 17.32 * math.sqrt(abs(d) / (4 * abs(f) + 1e-9))\n",
    "\n",
    "        k = int(R) % 256\n",
    "        si = k ^ bi\n",
    "        out1.append(si)\n",
    "        f, d = update_df(R, bi, d)\n",
    "\n",
    "    # --- Backward pass ---\n",
    "    out = []\n",
    "    f = np.int64(1)  # re-initialize f\n",
    "    d = np.int64(1)  # re-initialize d\n",
    "\n",
    "    for si in reversed(out1):  # process from right to left\n",
    "        R = 17.32 * math.sqrt(abs(d) / (4 * abs(f) + 1e-9))\n",
    "\n",
    "        k = int(R) % 256\n",
    "        ci = k ^ si\n",
    "        out.insert(0, ci)  # prepend to maintain original order\n",
    "        f, d = update_df(R, si, d)\n",
    "\n",
    "    return out\n",
    "block = [120, 45, 200, 88]\n",
    "\n",
    "output = Substitute(block)\n",
    "print(\"Input Block: \", block)\n",
    "print(\"Output Block:\", output)"
   ]
  },
  {
   "cell_type": "code",
   "execution_count": null,
   "id": "acaf38a8",
   "metadata": {},
   "outputs": [],
   "source": [
    "def Substitute_Inv(out):\n",
    "    \"\"\"\n",
    "    Inverse substitution for decryption.\n",
    "    out: encrypted block [c1, c2, ..., cn]\n",
    "    Returns: original block B\n",
    "    \"\"\"\n",
    "    n = len(out)\n",
    "    out1 = []\n",
    "\n",
    "    # --- Backward pass first ---\n",
    "    f = np.int64(1)\n",
    "    d = np.int64(1)\n",
    "\n",
    "    for ci in reversed(out):  # i = n down to 1\n",
    "        R = 17.32 * math.sqrt(d / (4 * f))\n",
    "        k = int(R) % 256\n",
    "        si = k ^ ci\n",
    "        out1.insert(0, si)  # prepend to maintain order\n",
    "        f, d = update_df(R, si, d)\n",
    "\n",
    "    # --- Forward pass second ---\n",
    "    B = []\n",
    "    f = np.int64(1)  # re-initialize\n",
    "    d = np.int64(1)\n",
    "\n",
    "    for si in out1:  # i = 1 to n\n",
    "        R = 17.32 * math.sqrt(d / (4 * f))\n",
    "        k = int(R) % 256\n",
    "        bi = k ^ si\n",
    "        B.append(bi)\n",
    "        f, d = update_df(R, bi, d)\n",
    "\n",
    "    return B\n"
   ]
  },
  {
   "cell_type": "code",
   "execution_count": null,
   "id": "738dc9b6",
   "metadata": {},
   "outputs": [],
   "source": []
  }
 ],
 "metadata": {
  "kernelspec": {
   "display_name": ".venv (3.13.6)",
   "language": "python",
   "name": "python3"
  },
  "language_info": {
   "codemirror_mode": {
    "name": "ipython",
    "version": 3
   },
   "file_extension": ".py",
   "mimetype": "text/x-python",
   "name": "python",
   "nbconvert_exporter": "python",
   "pygments_lexer": "ipython3",
   "version": "3.13.6"
  }
 },
 "nbformat": 4,
 "nbformat_minor": 5
}
