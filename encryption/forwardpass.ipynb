{
 "cells": [
  {
   "cell_type": "code",
   "execution_count": 2,
   "id": "3d44408c",
   "metadata": {},
   "outputs": [],
   "source": [
    "import numpy as np\n",
    "import math"
   ]
  },
  {
   "cell_type": "code",
   "execution_count": 7,
   "id": "dddcf45b",
   "metadata": {},
   "outputs": [],
   "source": [
    "def update_df(R:float , c , d):\n",
    "    f = np.int64(R) \n",
    "    z= c %32\n",
    "    if z!=0:\n",
    "        d = (c << (d%z))^d\n",
    "    else:\n",
    "        d= d^c\n",
    "    d = d^ (d<<21)\n",
    "    d = d ^ (d>>35)\n",
    "    d  =d ^ (d<<4)\n",
    "    \n",
    "    return [f ,d]"
   ]
  },
  {
   "cell_type": "code",
   "execution_count": 8,
   "id": "321cc4f7",
   "metadata": {},
   "outputs": [
    {
     "data": {
      "text/plain": [
       "[np.int64(2), 332107477252159304]"
      ]
     },
     "execution_count": 8,
     "metadata": {},
     "output_type": "execute_result"
    }
   ],
   "source": [
    "update_df(2.345647768 , 157 , 524592858)"
   ]
  },
  {
   "cell_type": "code",
   "execution_count": 13,
   "id": "56695292",
   "metadata": {},
   "outputs": [
    {
     "name": "stdout",
     "output_type": "stream",
     "text": [
      "Input Block:  [120, 45, 200, 88]\n",
      "Output Block: [112, 106, 70, 37]\n"
     ]
    }
   ],
   "source": [
    "# ---- Main: Substitute function (forward pass only) ----\n",
    "def Substitute(B):\n",
    "    \"\"\"\n",
    "    Forward substitution for one image block.\n",
    "    B: list/array of pixel values [b1, b2, ..., bn]\n",
    "    Returns: list of substituted pixels (out1)\n",
    "    \"\"\"\n",
    "    out1 = []\n",
    "\n",
    "    # Initialize 64-bit variables (avoid f=0 to prevent division by zero)\n",
    "    f = np.int64(1)\n",
    "    d = np.int64(1)\n",
    "\n",
    "    for bi in B:\n",
    "        # Step 1: Compute Fresnel radius\n",
    "        R = 17.32 * math.sqrt(abs(d) / (4 * abs(f) + 1e-9))\n",
    "\n",
    "\n",
    "        # Step 2: Generate key (Long(R) % 256)\n",
    "        k = int(R) % 256\n",
    "\n",
    "        # Step 3: Substitute pixel\n",
    "        si = k ^ bi\n",
    "        out1.append(si)\n",
    "\n",
    "        # Step 4: Update f and d for next iteration\n",
    "        f, d = update_df(R, bi, d)\n",
    "\n",
    "    return out1\n",
    "\n",
    "\n",
    "block = [120, 45, 200, 88]\n",
    "\n",
    "output = Substitute(block)\n",
    "print(\"Input Block: \", block)\n",
    "print(\"Output Block:\", output)"
   ]
  },
  {
   "cell_type": "code",
   "execution_count": null,
   "id": "acaf38a8",
   "metadata": {},
   "outputs": [],
   "source": []
  },
  {
   "cell_type": "code",
   "execution_count": null,
   "id": "738dc9b6",
   "metadata": {},
   "outputs": [],
   "source": []
  }
 ],
 "metadata": {
  "kernelspec": {
   "display_name": ".venv (3.13.6)",
   "language": "python",
   "name": "python3"
  },
  "language_info": {
   "codemirror_mode": {
    "name": "ipython",
    "version": 3
   },
   "file_extension": ".py",
   "mimetype": "text/x-python",
   "name": "python",
   "nbconvert_exporter": "python",
   "pygments_lexer": "ipython3",
   "version": "3.13.6"
  }
 },
 "nbformat": 4,
 "nbformat_minor": 5
}
