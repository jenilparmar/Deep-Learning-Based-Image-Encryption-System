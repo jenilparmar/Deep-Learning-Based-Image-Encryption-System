{
 "cells": [
  {
   "cell_type": "code",
   "execution_count": 1,
   "id": "f3280441",
   "metadata": {},
   "outputs": [],
   "source": [
    "import numpy as np\n",
    "import matplotlib as plt\n",
    "from PIL import Image\n",
    "from SHA_function import create_sha_key\n",
    "from logistic_map import calculate_r_and_x\n",
    "from generate_weights import create_weights\n",
    "from forward_pass import Substitute , Perturbation\n",
    "from Deferentail_Neural_network import DifferentialNeuralNetwork"
   ]
  },
  {
   "cell_type": "code",
   "execution_count": 2,
   "id": "5328e396",
   "metadata": {},
   "outputs": [],
   "source": [
    "PASSWORD = \"ThisIsEncryptionPassword\""
   ]
  },
  {
   "cell_type": "code",
   "execution_count": 3,
   "id": "23422d19",
   "metadata": {},
   "outputs": [],
   "source": [
    "input_image = Image.open(\"images.jpg\").convert(\"L\")"
   ]
  },
  {
   "cell_type": "code",
   "execution_count": 4,
   "id": "cb9709fc",
   "metadata": {},
   "outputs": [],
   "source": [
    "image_array = np.array(input_image)\n"
   ]
  },
  {
   "cell_type": "code",
   "execution_count": 5,
   "id": "420ae3ec",
   "metadata": {},
   "outputs": [],
   "source": [
    "key = create_sha_key(PASSWORD)\n",
    "[x,r] = calculate_r_and_x(PASSWORD)"
   ]
  },
  {
   "cell_type": "markdown",
   "id": "2917a800",
   "metadata": {},
   "source": [
    "Image Encryption"
   ]
  },
  {
   "cell_type": "markdown",
   "id": "7e15be07",
   "metadata": {},
   "source": [
    "substitution\n"
   ]
  },
  {
   "cell_type": "code",
   "execution_count": 6,
   "id": "a219040f",
   "metadata": {},
   "outputs": [],
   "source": [
    "T = []\n",
    "for b in image_array:\n",
    "    substitute_block = Substitute(b)\n",
    "    T.append(substitute_block)\n",
    "T = np.array(T)"
   ]
  },
  {
   "cell_type": "markdown",
   "id": "484abdf2",
   "metadata": {},
   "source": [
    "perbutation\n"
   ]
  },
  {
   "cell_type": "code",
   "execution_count": 7,
   "id": "105893a8",
   "metadata": {},
   "outputs": [],
   "source": [
    "[c_perbutation , r_perbutation] = calculate_r_and_x(PASSWORD)"
   ]
  },
  {
   "cell_type": "code",
   "execution_count": 8,
   "id": "2450af5f",
   "metadata": {},
   "outputs": [],
   "source": [
    "perbutated_image =Perturbation(T , r_perbutation ,c_perbutation)"
   ]
  },
  {
   "cell_type": "code",
   "execution_count": 9,
   "id": "8d886a15",
   "metadata": {},
   "outputs": [
    {
     "data": {
      "text/plain": [
       "array([[ 79, 223,  95, ..., 139, 252, 117],\n",
       "       [153, 124, 221, ...,  99, 150,  97],\n",
       "       [ 41, 121,  18, ...,  73, 175,  32],\n",
       "       ...,\n",
       "       [ 90, 170,  75, ..., 136, 159,  44],\n",
       "       [205,   0, 123, ..., 121,  90,  76],\n",
       "       [200,   8,  50, ...,  46, 153,   9]], shape=(183, 276), dtype=uint8)"
      ]
     },
     "execution_count": 9,
     "metadata": {},
     "output_type": "execute_result"
    }
   ],
   "source": [
    "perbutated_image"
   ]
  },
  {
   "cell_type": "markdown",
   "id": "4869d022",
   "metadata": {},
   "source": [
    "Second Substitute"
   ]
  },
  {
   "cell_type": "code",
   "execution_count": 10,
   "id": "7fb346fe",
   "metadata": {},
   "outputs": [],
   "source": [
    "V = []\n",
    "for p in perbutated_image:\n",
    "    sec_sub= Substitute(p)\n",
    "    V.append(sec_sub)\n",
    "V = np.array(V)"
   ]
  },
  {
   "cell_type": "markdown",
   "id": "f170e005",
   "metadata": {},
   "source": [
    "Now we will train Deferentail Neural network"
   ]
  },
  {
   "cell_type": "code",
   "execution_count": 13,
   "id": "3f5e8ca6",
   "metadata": {},
   "outputs": [],
   "source": [
    "num_neurons = len(PASSWORD)\n",
    "num_layers = 5 # 1 input + 3 hidden + 1 output\n",
    "total_weights_needed = (num_layers - 1) * (num_neurons * num_neurons)\n",
    "W_i = create_weights(x , total_weights_needed)\n",
    "dnn = DifferentialNeuralNetwork(PASSWORD, W_i, num_neurons=num_neurons)"
   ]
  },
  {
   "cell_type": "code",
   "execution_count": 14,
   "id": "226f52d3",
   "metadata": {},
   "outputs": [],
   "source": [
    "encrypted_rows = []\n",
    "for v_i in V:\n",
    "            # Generate blurring codes for the current row\n",
    "    codes = dnn.generate_codes_and_update(v_i)\n",
    "    \n",
    "    # XOR the row with the codes to get the encrypted row\n",
    "    encrypted_row = np.bitwise_xor(v_i, codes)\n",
    "    encrypted_rows.append(encrypted_row)\n",
    "\n",
    "    # Combine all encrypted rows into the final matrix\n",
    "C_matrix = np.array(encrypted_rows, dtype=np.uint8)"
   ]
  },
  {
   "cell_type": "code",
   "execution_count": 16,
   "id": "574bf8b9",
   "metadata": {},
   "outputs": [],
   "source": [
    "C_matrix = np.array(C_matrix)"
   ]
  },
  {
   "cell_type": "code",
   "execution_count": 17,
   "id": "3beded8c",
   "metadata": {},
   "outputs": [],
   "source": [
    "cipher_image  = Image.fromarray(C_matrix)\n",
    "cipher_image.show()"
   ]
  },
  {
   "cell_type": "code",
   "execution_count": null,
   "id": "9f870120",
   "metadata": {},
   "outputs": [],
   "source": []
  }
 ],
 "metadata": {
  "kernelspec": {
   "display_name": ".venv (3.13.6)",
   "language": "python",
   "name": "python3"
  },
  "language_info": {
   "codemirror_mode": {
    "name": "ipython",
    "version": 3
   },
   "file_extension": ".py",
   "mimetype": "text/x-python",
   "name": "python",
   "nbconvert_exporter": "python",
   "pygments_lexer": "ipython3",
   "version": "3.13.6"
  }
 },
 "nbformat": 4,
 "nbformat_minor": 5
}
