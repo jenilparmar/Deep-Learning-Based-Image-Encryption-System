{
 "cells": [
  {
   "cell_type": "code",
   "execution_count": 1,
   "id": "4097ea70",
   "metadata": {},
   "outputs": [
    {
     "name": "stdout",
     "output_type": "stream",
     "text": [
      "Input Block:  [120, 45, 200, 88]\n",
      "Output Block: [157, 10, 52, 45]\n"
     ]
    }
   ],
   "source": [
    "import numpy as np\n",
    "from logistic_map import calculate_r_and_x\n",
    "from PIL import Image\n",
    "from forward_pass import Perturbation ,  Substitute\n",
    " "
   ]
  },
  {
   "cell_type": "code",
   "execution_count": 2,
   "id": "fad9f5fd",
   "metadata": {},
   "outputs": [],
   "source": [
    "image = Image.open(r'images.jpg').convert(\"L\")\n",
    "\n",
    "image_array = np.asarray(image) "
   ]
  },
  {
   "cell_type": "code",
   "execution_count": 3,
   "id": "63837daa",
   "metadata": {},
   "outputs": [
    {
     "data": {
      "text/plain": [
       "(183, 276)"
      ]
     },
     "execution_count": 3,
     "metadata": {},
     "output_type": "execute_result"
    }
   ],
   "source": [
    "image_array.shape"
   ]
  },
  {
   "cell_type": "code",
   "execution_count": 4,
   "id": "c65b37c9",
   "metadata": {},
   "outputs": [],
   "source": [
    "c ,r = calculate_r_and_x(\"JenilParmarIsGoodGuy\")"
   ]
  },
  {
   "cell_type": "code",
   "execution_count": 5,
   "id": "346b0d47",
   "metadata": {},
   "outputs": [],
   "source": [
    "matrix_T_rows = []\n",
    "for row in image_array:\n",
    "    substituted_row = Substitute(row)\n",
    "    matrix_T_rows.append(substituted_row)\n"
   ]
  },
  {
   "cell_type": "code",
   "execution_count": 6,
   "id": "c0022c1e",
   "metadata": {},
   "outputs": [],
   "source": [
    "T = np.array(matrix_T_rows)"
   ]
  },
  {
   "cell_type": "code",
   "execution_count": 7,
   "id": "f5d2caa5",
   "metadata": {},
   "outputs": [],
   "source": [
    "perturbed_T  = Perturbation(T)\n"
   ]
  },
  {
   "cell_type": "code",
   "execution_count": 8,
   "id": "ecabc080",
   "metadata": {},
   "outputs": [],
   "source": [
    "matrix_V_rows = []\n",
    "for row in perturbed_T:\n",
    "    final_substitued_row = Substitute(row)\n",
    "    matrix_V_rows.append(final_substitued_row)\n",
    "\n",
    "V = np.array(matrix_V_rows)"
   ]
  },
  {
   "cell_type": "code",
   "execution_count": 13,
   "id": "dbd219cd",
   "metadata": {},
   "outputs": [
    {
     "name": "stdout",
     "output_type": "stream",
     "text": [
      "Saved 'T_matrix_image.png'\n",
      "\n",
      "Applying pixel perturbation...\n",
      "Saved 'perturbed_image.png'\n",
      "\n",
      "Applying second substitution...\n",
      "Saved 'V_matrix_image.png'\n"
     ]
    }
   ],
   "source": [
    "image_T = Image.fromarray(T)\n",
    "image_T.save('T_matrix_image.png')\n",
    "print(\"Saved 'T_matrix_image.png'\")\n",
    "\n",
    "\n",
    "# --- Step 2: Pixel Perturbation ---\n",
    "print(\"\\nApplying pixel perturbation...\")\n",
    "perturbed_T = Perturbation(T)\n",
    "perturbed_T = np.array(perturbed_T, dtype=np.uint8) # Ensure correct data type\n",
    "\n",
    "# Convert the perturbed matrix to an image and save it\n",
    "image_perturbed = Image.fromarray(perturbed_T)\n",
    "image_perturbed.save('perturbed_image.png')\n",
    "print(\"Saved 'perturbed_image.png'\")\n",
    "\n",
    "\n",
    "# --- Step 3: Second Substitution (Create V matrix) ---\n",
    "print(\"\\nApplying second substitution...\")\n",
    "matrix_V_rows = [Substitute(row) for row in perturbed_T]\n",
    "V = np.array(matrix_V_rows, dtype=np.uint8)\n",
    "\n",
    "# Convert V matrix to an image and save it\n",
    "image_V = Image.fromarray(V)\n",
    "image_V.save('V_matrix_image.png')\n",
    "print(\"Saved 'V_matrix_image.png'\")"
   ]
  },
  {
   "cell_type": "code",
   "execution_count": null,
   "id": "17bd1abb",
   "metadata": {},
   "outputs": [],
   "source": []
  },
  {
   "cell_type": "code",
   "execution_count": null,
   "id": "a90c035e",
   "metadata": {},
   "outputs": [],
   "source": []
  }
 ],
 "metadata": {
  "kernelspec": {
   "display_name": ".venv (3.13.6)",
   "language": "python",
   "name": "python3"
  },
  "language_info": {
   "codemirror_mode": {
    "name": "ipython",
    "version": 3
   },
   "file_extension": ".py",
   "mimetype": "text/x-python",
   "name": "python",
   "nbconvert_exporter": "python",
   "pygments_lexer": "ipython3",
   "version": "3.13.6"
  }
 },
 "nbformat": 4,
 "nbformat_minor": 5
}
